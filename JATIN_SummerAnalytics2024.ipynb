{
  "nbformat": 4,
  "nbformat_minor": 0,
  "metadata": {
    "colab": {
      "provenance": [],
      "toc_visible": true
    },
    "kernelspec": {
      "name": "python3",
      "display_name": "Python 3"
    },
    "language_info": {
      "name": "python"
    }
  },
  "cells": [
    {
      "cell_type": "code",
      "execution_count": 6,
      "metadata": {
        "colab": {
          "base_uri": "https://localhost:8080/"
        },
        "id": "p2VT-b-WIUXl",
        "outputId": "31e4ed49-7743-4c2a-edfe-0c9a0d9bebb1"
      },
      "outputs": [
        {
          "output_type": "stream",
          "name": "stdout",
          "text": [
            "ROC AUC for XYZ vaccine: 0.8707206128297573\n",
            "ROC AUC for Seasonal vaccine: 0.8638179293043691\n"
          ]
        }
      ],
      "source": [
        "import pandas as pd\n",
        "from sklearn.model_selection import train_test_split\n",
        "from sklearn.impute import SimpleImputer\n",
        "from sklearn.preprocessing import OneHotEncoder, StandardScaler\n",
        "from sklearn.pipeline import Pipeline\n",
        "from sklearn.compose import ColumnTransformer\n",
        "from sklearn.linear_model import LogisticRegression\n",
        "from sklearn.ensemble import RandomForestClassifier, GradientBoostingClassifier\n",
        "from sklearn.metrics import roc_auc_score\n",
        "from sklearn.multioutput import MultiOutputClassifier\n",
        "\n",
        "train_features = pd.read_csv('/content/training_set_features.csv')\n",
        "train_labels = pd.read_csv('/content/training_set_labels.csv')\n",
        "test_features = pd.read_csv('/content/test_set_features.csv')\n",
        "\n",
        "\n",
        "train_data = pd.merge(train_features, train_labels, on='respondent_id')\n",
        "\n",
        "\n",
        "categorical_cols = ['age_group', 'education', 'race', 'sex', 'income_poverty', 'marital_status',\n",
        "                    'rent_or_own', 'employment_status', 'hhs_geo_region', 'census_msa',\n",
        "                    'employment_industry', 'employment_occupation']\n",
        "numerical_cols = train_data.columns.difference(categorical_cols + ['respondent_id', 'xyz_vaccine', 'seasonal_vaccine']).tolist()\n",
        "\n",
        "\n",
        "num_pipeline = Pipeline(steps=[\n",
        "    ('imputer', SimpleImputer(strategy='mean')),\n",
        "    ('scaler', StandardScaler())\n",
        "])\n",
        "\n",
        "cat_pipeline = Pipeline(steps=[\n",
        "    ('imputer', SimpleImputer(strategy='most_frequent')),\n",
        "    ('onehot', OneHotEncoder(handle_unknown='ignore'))\n",
        "])\n",
        "\n",
        "\n",
        "preprocessor = ColumnTransformer(\n",
        "    transformers=[\n",
        "        ('num', num_pipeline, numerical_cols),\n",
        "        ('cat', cat_pipeline, categorical_cols)\n",
        "    ])\n",
        "\n",
        "\n",
        "X = train_data.drop(columns=['respondent_id', 'xyz_vaccine', 'seasonal_vaccine'])\n",
        "y = train_data[['xyz_vaccine', 'seasonal_vaccine']]\n",
        "\n",
        "X_preprocessed = preprocessor.fit_transform(X)\n",
        "\n",
        "\n",
        "X_train, X_val, y_train, y_val = train_test_split(X_preprocessed, y, test_size=0.2, random_state=42)\n",
        "\n",
        "\n",
        "model = MultiOutputClassifier(GradientBoostingClassifier())\n",
        "\n",
        "\n",
        "model.fit(X_train, y_train)\n",
        "\n",
        "\n",
        "y_pred_proba = model.predict_proba(X_val)\n",
        "roc_auc_xyz = roc_auc_score(y_val['xyz_vaccine'], y_pred_proba[0][:, 1])\n",
        "roc_auc_seasonal = roc_auc_score(y_val['seasonal_vaccine'], y_pred_proba[1][:, 1])\n",
        "\n",
        "print(f\"ROC AUC for XYZ vaccine: {roc_auc_xyz}\")\n",
        "print(f\"ROC AUC for Seasonal vaccine: {roc_auc_seasonal}\")\n",
        "\n",
        "\n",
        "X_test = test_features.drop(columns=['respondent_id'])\n",
        "X_test_preprocessed = preprocessor.transform(X_test)\n",
        "\n",
        "\n",
        "y_test_pred_proba = model.predict_proba(X_test_preprocessed)\n",
        "\n",
        "submission = pd.DataFrame({\n",
        "    'respondent_id': test_features['respondent_id'],\n",
        "    'xyz_vaccine': y_test_pred_proba[0][:, 1],\n",
        "    'seasonal_vaccine': y_test_pred_proba[1][:, 1]\n",
        "})\n",
        "\n",
        "\n",
        "submission.to_csv('/content/submission_format.csv', index=False)\n"
      ]
    }
  ]
}